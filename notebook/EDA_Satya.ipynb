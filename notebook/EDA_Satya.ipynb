{
 "cells": [
  {
   "cell_type": "markdown",
   "id": "d43bd2c2",
   "metadata": {},
   "source": [
    "## Import DATA and Required Packages\n"
   ]
  },
  {
   "cell_type": "code",
   "execution_count": 1,
   "id": "9df469f9",
   "metadata": {},
   "outputs": [],
   "source": [
    "import pandas as pd\n",
    "import numpy as np\n",
    "import seaborn as sn\n",
    "import matplotlib as mpl\n",
    "import matplotlib.pyplot as plt\n",
    "%matplotlib inline\n",
    "import warnings\n",
    "warnings.filterwarnings('ignore')"
   ]
  },
  {
   "cell_type": "markdown",
   "id": "19d24f04",
   "metadata": {},
   "source": [
    "## Import CSV data as Pandas Dataframe"
   ]
  },
  {
   "cell_type": "code",
   "execution_count": 2,
   "id": "1d9ea9d6",
   "metadata": {},
   "outputs": [],
   "source": [
    "df1 = pd.read_csv('data/commu_meta.csv')"
   ]
  },
  {
   "cell_type": "code",
   "execution_count": 3,
   "id": "8040351a",
   "metadata": {},
   "outputs": [],
   "source": [
    "df = df1.copy(deep=True)"
   ]
  },
  {
   "cell_type": "code",
   "execution_count": 4,
   "id": "71f56d26",
   "metadata": {},
   "outputs": [
    {
     "data": {
      "text/html": [
       "<div>\n",
       "<style scoped>\n",
       "    .dataframe tbody tr th:only-of-type {\n",
       "        vertical-align: middle;\n",
       "    }\n",
       "\n",
       "    .dataframe tbody tr th {\n",
       "        vertical-align: top;\n",
       "    }\n",
       "\n",
       "    .dataframe thead th {\n",
       "        text-align: right;\n",
       "    }\n",
       "</style>\n",
       "<table border=\"1\" class=\"dataframe\">\n",
       "  <thead>\n",
       "    <tr style=\"text-align: right;\">\n",
       "      <th></th>\n",
       "      <th>Unnamed: 0</th>\n",
       "      <th>audio_key</th>\n",
       "      <th>chord_progressions</th>\n",
       "      <th>pitch_range</th>\n",
       "      <th>num_measures</th>\n",
       "      <th>bpm</th>\n",
       "      <th>genre</th>\n",
       "      <th>track_role</th>\n",
       "      <th>inst</th>\n",
       "      <th>sample_rhythm</th>\n",
       "      <th>time_signature</th>\n",
       "      <th>min_velocity</th>\n",
       "      <th>max_velocity</th>\n",
       "      <th>split_data</th>\n",
       "      <th>id</th>\n",
       "    </tr>\n",
       "  </thead>\n",
       "  <tbody>\n",
       "    <tr>\n",
       "      <th>0</th>\n",
       "      <td>0</td>\n",
       "      <td>aminor</td>\n",
       "      <td>[['Am', 'Am', 'Am', 'Am', 'Am', 'Am', 'Am', 'A...</td>\n",
       "      <td>mid</td>\n",
       "      <td>8</td>\n",
       "      <td>120</td>\n",
       "      <td>cinematic</td>\n",
       "      <td>main_melody</td>\n",
       "      <td>string_ensemble</td>\n",
       "      <td>standard</td>\n",
       "      <td>4/4</td>\n",
       "      <td>101</td>\n",
       "      <td>102</td>\n",
       "      <td>train</td>\n",
       "      <td>commu00001</td>\n",
       "    </tr>\n",
       "    <tr>\n",
       "      <th>1</th>\n",
       "      <td>1</td>\n",
       "      <td>cmajor</td>\n",
       "      <td>[['C', 'C', 'C', 'C', 'C', 'C', 'C', 'C', 'Dm'...</td>\n",
       "      <td>mid_low</td>\n",
       "      <td>8</td>\n",
       "      <td>80</td>\n",
       "      <td>newage</td>\n",
       "      <td>accompaniment</td>\n",
       "      <td>acoustic_piano</td>\n",
       "      <td>standard</td>\n",
       "      <td>4/4</td>\n",
       "      <td>23</td>\n",
       "      <td>30</td>\n",
       "      <td>train</td>\n",
       "      <td>commu00002</td>\n",
       "    </tr>\n",
       "    <tr>\n",
       "      <th>2</th>\n",
       "      <td>2</td>\n",
       "      <td>aminor</td>\n",
       "      <td>[['Am', 'Am', 'Am', 'Am', 'Am', 'Am', 'Am', 'A...</td>\n",
       "      <td>mid_high</td>\n",
       "      <td>8</td>\n",
       "      <td>150</td>\n",
       "      <td>cinematic</td>\n",
       "      <td>riff</td>\n",
       "      <td>string_violin</td>\n",
       "      <td>standard</td>\n",
       "      <td>4/4</td>\n",
       "      <td>123</td>\n",
       "      <td>127</td>\n",
       "      <td>train</td>\n",
       "      <td>commu00003</td>\n",
       "    </tr>\n",
       "    <tr>\n",
       "      <th>3</th>\n",
       "      <td>3</td>\n",
       "      <td>cmajor</td>\n",
       "      <td>[['C', 'C', 'C', 'C', 'C', 'C', 'C', 'C', 'Gm'...</td>\n",
       "      <td>mid</td>\n",
       "      <td>8</td>\n",
       "      <td>110</td>\n",
       "      <td>cinematic</td>\n",
       "      <td>pad</td>\n",
       "      <td>choir</td>\n",
       "      <td>standard</td>\n",
       "      <td>4/4</td>\n",
       "      <td>45</td>\n",
       "      <td>46</td>\n",
       "      <td>train</td>\n",
       "      <td>commu00004</td>\n",
       "    </tr>\n",
       "    <tr>\n",
       "      <th>4</th>\n",
       "      <td>4</td>\n",
       "      <td>aminor</td>\n",
       "      <td>[['Am', 'Am', 'Am', 'Am', 'Em', 'Em', 'Em', 'E...</td>\n",
       "      <td>mid_low</td>\n",
       "      <td>4</td>\n",
       "      <td>60</td>\n",
       "      <td>cinematic</td>\n",
       "      <td>pad</td>\n",
       "      <td>acoustic_piano</td>\n",
       "      <td>standard</td>\n",
       "      <td>4/4</td>\n",
       "      <td>21</td>\n",
       "      <td>22</td>\n",
       "      <td>train</td>\n",
       "      <td>commu00005</td>\n",
       "    </tr>\n",
       "  </tbody>\n",
       "</table>\n",
       "</div>"
      ],
      "text/plain": [
       "   Unnamed: 0 audio_key                                 chord_progressions  \\\n",
       "0           0    aminor  [['Am', 'Am', 'Am', 'Am', 'Am', 'Am', 'Am', 'A...   \n",
       "1           1    cmajor  [['C', 'C', 'C', 'C', 'C', 'C', 'C', 'C', 'Dm'...   \n",
       "2           2    aminor  [['Am', 'Am', 'Am', 'Am', 'Am', 'Am', 'Am', 'A...   \n",
       "3           3    cmajor  [['C', 'C', 'C', 'C', 'C', 'C', 'C', 'C', 'Gm'...   \n",
       "4           4    aminor  [['Am', 'Am', 'Am', 'Am', 'Em', 'Em', 'Em', 'E...   \n",
       "\n",
       "  pitch_range  num_measures  bpm      genre     track_role             inst  \\\n",
       "0         mid             8  120  cinematic    main_melody  string_ensemble   \n",
       "1     mid_low             8   80     newage  accompaniment   acoustic_piano   \n",
       "2    mid_high             8  150  cinematic           riff    string_violin   \n",
       "3         mid             8  110  cinematic            pad            choir   \n",
       "4     mid_low             4   60  cinematic            pad   acoustic_piano   \n",
       "\n",
       "  sample_rhythm time_signature  min_velocity  max_velocity split_data  \\\n",
       "0      standard            4/4           101           102      train   \n",
       "1      standard            4/4            23            30      train   \n",
       "2      standard            4/4           123           127      train   \n",
       "3      standard            4/4            45            46      train   \n",
       "4      standard            4/4            21            22      train   \n",
       "\n",
       "           id  \n",
       "0  commu00001  \n",
       "1  commu00002  \n",
       "2  commu00003  \n",
       "3  commu00004  \n",
       "4  commu00005  "
      ]
     },
     "execution_count": 4,
     "metadata": {},
     "output_type": "execute_result"
    }
   ],
   "source": [
    "df.head()"
   ]
  },
  {
   "cell_type": "code",
   "execution_count": 5,
   "id": "e146be55",
   "metadata": {},
   "outputs": [
    {
     "data": {
      "text/plain": [
       "(11144, 15)"
      ]
     },
     "execution_count": 5,
     "metadata": {},
     "output_type": "execute_result"
    }
   ],
   "source": [
    "df.shape"
   ]
  },
  {
   "cell_type": "code",
   "execution_count": 6,
   "id": "b935fa69",
   "metadata": {},
   "outputs": [
    {
     "data": {
      "text/plain": [
       "Index(['Unnamed: 0', 'audio_key', 'chord_progressions', 'pitch_range',\n",
       "       'num_measures', 'bpm', 'genre', 'track_role', 'inst', 'sample_rhythm',\n",
       "       'time_signature', 'min_velocity', 'max_velocity', 'split_data', 'id'],\n",
       "      dtype='object')"
      ]
     },
     "execution_count": 6,
     "metadata": {},
     "output_type": "execute_result"
    }
   ],
   "source": [
    "df.columns\n"
   ]
  },
  {
   "cell_type": "markdown",
   "id": "f2e7d0a5",
   "metadata": {},
   "source": [
    "## Data checks to perform\n",
    "- Check Missing Values\n",
    "- Check Duplicates\n",
    "- Check Datatype\n",
    "- Check the number of unique values of each column\n",
    "- Check statistics of data set\n",
    "- Check various categories present in the different categorical column"
   ]
  },
  {
   "cell_type": "code",
   "execution_count": 7,
   "id": "da8ef843",
   "metadata": {},
   "outputs": [
    {
     "data": {
      "text/plain": [
       "Unnamed: 0            0\n",
       "audio_key             0\n",
       "chord_progressions    0\n",
       "pitch_range           0\n",
       "num_measures          0\n",
       "bpm                   0\n",
       "genre                 0\n",
       "track_role            0\n",
       "inst                  0\n",
       "sample_rhythm         0\n",
       "time_signature        0\n",
       "min_velocity          0\n",
       "max_velocity          0\n",
       "split_data            0\n",
       "id                    0\n",
       "dtype: int64"
      ]
     },
     "execution_count": 7,
     "metadata": {},
     "output_type": "execute_result"
    }
   ],
   "source": [
    "df.isna().sum()"
   ]
  },
  {
   "cell_type": "markdown",
   "id": "fd123006",
   "metadata": {},
   "source": [
    "- There are no missing values in the dataset"
   ]
  },
  {
   "cell_type": "code",
   "execution_count": 8,
   "id": "4aba0099",
   "metadata": {},
   "outputs": [
    {
     "data": {
      "text/plain": [
       "0"
      ]
     },
     "execution_count": 8,
     "metadata": {},
     "output_type": "execute_result"
    }
   ],
   "source": [
    "df.duplicated().sum()"
   ]
  },
  {
   "cell_type": "markdown",
   "id": "fc2c7154",
   "metadata": {},
   "source": [
    "- There are no duplicates in the dataset"
   ]
  },
  {
   "cell_type": "code",
   "execution_count": 9,
   "id": "8508ea05",
   "metadata": {},
   "outputs": [
    {
     "name": "stdout",
     "output_type": "stream",
     "text": [
      "<class 'pandas.core.frame.DataFrame'>\n",
      "RangeIndex: 11144 entries, 0 to 11143\n",
      "Data columns (total 15 columns):\n",
      " #   Column              Non-Null Count  Dtype \n",
      "---  ------              --------------  ----- \n",
      " 0   Unnamed: 0          11144 non-null  int64 \n",
      " 1   audio_key           11144 non-null  object\n",
      " 2   chord_progressions  11144 non-null  object\n",
      " 3   pitch_range         11144 non-null  object\n",
      " 4   num_measures        11144 non-null  int64 \n",
      " 5   bpm                 11144 non-null  int64 \n",
      " 6   genre               11144 non-null  object\n",
      " 7   track_role          11144 non-null  object\n",
      " 8   inst                11144 non-null  object\n",
      " 9   sample_rhythm       11144 non-null  object\n",
      " 10  time_signature      11144 non-null  object\n",
      " 11  min_velocity        11144 non-null  int64 \n",
      " 12  max_velocity        11144 non-null  int64 \n",
      " 13  split_data          11144 non-null  object\n",
      " 14  id                  11144 non-null  object\n",
      "dtypes: int64(5), object(10)\n",
      "memory usage: 1.3+ MB\n"
     ]
    }
   ],
   "source": [
    "df.info()"
   ]
  },
  {
   "cell_type": "code",
   "execution_count": 10,
   "id": "ceaced6b",
   "metadata": {},
   "outputs": [
    {
     "data": {
      "text/plain": [
       "Unnamed: 0            11144\n",
       "audio_key                 2\n",
       "chord_progressions      292\n",
       "pitch_range               7\n",
       "num_measures              6\n",
       "bpm                      22\n",
       "genre                     2\n",
       "track_role                6\n",
       "inst                    130\n",
       "sample_rhythm             2\n",
       "time_signature            3\n",
       "min_velocity            124\n",
       "max_velocity            116\n",
       "split_data                2\n",
       "id                    11144\n",
       "dtype: int64"
      ]
     },
     "execution_count": 10,
     "metadata": {},
     "output_type": "execute_result"
    }
   ],
   "source": [
    "df.nunique()"
   ]
  },
  {
   "cell_type": "code",
   "execution_count": 11,
   "id": "2caffea4",
   "metadata": {},
   "outputs": [
    {
     "data": {
      "text/html": [
       "<div>\n",
       "<style scoped>\n",
       "    .dataframe tbody tr th:only-of-type {\n",
       "        vertical-align: middle;\n",
       "    }\n",
       "\n",
       "    .dataframe tbody tr th {\n",
       "        vertical-align: top;\n",
       "    }\n",
       "\n",
       "    .dataframe thead th {\n",
       "        text-align: right;\n",
       "    }\n",
       "</style>\n",
       "<table border=\"1\" class=\"dataframe\">\n",
       "  <thead>\n",
       "    <tr style=\"text-align: right;\">\n",
       "      <th></th>\n",
       "      <th>Unnamed: 0</th>\n",
       "      <th>num_measures</th>\n",
       "      <th>bpm</th>\n",
       "      <th>min_velocity</th>\n",
       "      <th>max_velocity</th>\n",
       "    </tr>\n",
       "  </thead>\n",
       "  <tbody>\n",
       "    <tr>\n",
       "      <th>count</th>\n",
       "      <td>11144.000000</td>\n",
       "      <td>11144.000000</td>\n",
       "      <td>11144.000000</td>\n",
       "      <td>11144.000000</td>\n",
       "      <td>11144.000000</td>\n",
       "    </tr>\n",
       "    <tr>\n",
       "      <th>mean</th>\n",
       "      <td>5571.500000</td>\n",
       "      <td>7.844131</td>\n",
       "      <td>91.702710</td>\n",
       "      <td>59.339465</td>\n",
       "      <td>71.011127</td>\n",
       "    </tr>\n",
       "    <tr>\n",
       "      <th>std</th>\n",
       "      <td>3217.140034</td>\n",
       "      <td>3.228033</td>\n",
       "      <td>31.037601</td>\n",
       "      <td>27.298189</td>\n",
       "      <td>27.394444</td>\n",
       "    </tr>\n",
       "    <tr>\n",
       "      <th>min</th>\n",
       "      <td>0.000000</td>\n",
       "      <td>4.000000</td>\n",
       "      <td>35.000000</td>\n",
       "      <td>2.000000</td>\n",
       "      <td>2.000000</td>\n",
       "    </tr>\n",
       "    <tr>\n",
       "      <th>25%</th>\n",
       "      <td>2785.750000</td>\n",
       "      <td>8.000000</td>\n",
       "      <td>65.000000</td>\n",
       "      <td>39.000000</td>\n",
       "      <td>52.000000</td>\n",
       "    </tr>\n",
       "    <tr>\n",
       "      <th>50%</th>\n",
       "      <td>5571.500000</td>\n",
       "      <td>8.000000</td>\n",
       "      <td>80.000000</td>\n",
       "      <td>56.000000</td>\n",
       "      <td>70.000000</td>\n",
       "    </tr>\n",
       "    <tr>\n",
       "      <th>75%</th>\n",
       "      <td>8357.250000</td>\n",
       "      <td>8.000000</td>\n",
       "      <td>120.000000</td>\n",
       "      <td>77.000000</td>\n",
       "      <td>90.000000</td>\n",
       "    </tr>\n",
       "    <tr>\n",
       "      <th>max</th>\n",
       "      <td>11143.000000</td>\n",
       "      <td>17.000000</td>\n",
       "      <td>155.000000</td>\n",
       "      <td>127.000000</td>\n",
       "      <td>127.000000</td>\n",
       "    </tr>\n",
       "  </tbody>\n",
       "</table>\n",
       "</div>"
      ],
      "text/plain": [
       "         Unnamed: 0  num_measures           bpm  min_velocity  max_velocity\n",
       "count  11144.000000  11144.000000  11144.000000  11144.000000  11144.000000\n",
       "mean    5571.500000      7.844131     91.702710     59.339465     71.011127\n",
       "std     3217.140034      3.228033     31.037601     27.298189     27.394444\n",
       "min        0.000000      4.000000     35.000000      2.000000      2.000000\n",
       "25%     2785.750000      8.000000     65.000000     39.000000     52.000000\n",
       "50%     5571.500000      8.000000     80.000000     56.000000     70.000000\n",
       "75%     8357.250000      8.000000    120.000000     77.000000     90.000000\n",
       "max    11143.000000     17.000000    155.000000    127.000000    127.000000"
      ]
     },
     "execution_count": 11,
     "metadata": {},
     "output_type": "execute_result"
    }
   ],
   "source": [
    "df.describe()"
   ]
  },
  {
   "cell_type": "markdown",
   "id": "879fb7b2",
   "metadata": {},
   "source": [
    "## Exploring the Data"
   ]
  },
  {
   "cell_type": "code",
   "execution_count": 12,
   "id": "664b53d7",
   "metadata": {},
   "outputs": [
    {
     "data": {
      "text/html": [
       "<div>\n",
       "<style scoped>\n",
       "    .dataframe tbody tr th:only-of-type {\n",
       "        vertical-align: middle;\n",
       "    }\n",
       "\n",
       "    .dataframe tbody tr th {\n",
       "        vertical-align: top;\n",
       "    }\n",
       "\n",
       "    .dataframe thead th {\n",
       "        text-align: right;\n",
       "    }\n",
       "</style>\n",
       "<table border=\"1\" class=\"dataframe\">\n",
       "  <thead>\n",
       "    <tr style=\"text-align: right;\">\n",
       "      <th></th>\n",
       "      <th>Unnamed: 0</th>\n",
       "      <th>audio_key</th>\n",
       "      <th>chord_progressions</th>\n",
       "      <th>pitch_range</th>\n",
       "      <th>num_measures</th>\n",
       "      <th>bpm</th>\n",
       "      <th>genre</th>\n",
       "      <th>track_role</th>\n",
       "      <th>inst</th>\n",
       "      <th>sample_rhythm</th>\n",
       "      <th>time_signature</th>\n",
       "      <th>min_velocity</th>\n",
       "      <th>max_velocity</th>\n",
       "      <th>split_data</th>\n",
       "      <th>id</th>\n",
       "    </tr>\n",
       "  </thead>\n",
       "  <tbody>\n",
       "    <tr>\n",
       "      <th>0</th>\n",
       "      <td>0</td>\n",
       "      <td>aminor</td>\n",
       "      <td>[['Am', 'Am', 'Am', 'Am', 'Am', 'Am', 'Am', 'A...</td>\n",
       "      <td>mid</td>\n",
       "      <td>8</td>\n",
       "      <td>120</td>\n",
       "      <td>cinematic</td>\n",
       "      <td>main_melody</td>\n",
       "      <td>string_ensemble</td>\n",
       "      <td>standard</td>\n",
       "      <td>4/4</td>\n",
       "      <td>101</td>\n",
       "      <td>102</td>\n",
       "      <td>train</td>\n",
       "      <td>commu00001</td>\n",
       "    </tr>\n",
       "    <tr>\n",
       "      <th>1</th>\n",
       "      <td>1</td>\n",
       "      <td>cmajor</td>\n",
       "      <td>[['C', 'C', 'C', 'C', 'C', 'C', 'C', 'C', 'Dm'...</td>\n",
       "      <td>mid_low</td>\n",
       "      <td>8</td>\n",
       "      <td>80</td>\n",
       "      <td>newage</td>\n",
       "      <td>accompaniment</td>\n",
       "      <td>acoustic_piano</td>\n",
       "      <td>standard</td>\n",
       "      <td>4/4</td>\n",
       "      <td>23</td>\n",
       "      <td>30</td>\n",
       "      <td>train</td>\n",
       "      <td>commu00002</td>\n",
       "    </tr>\n",
       "    <tr>\n",
       "      <th>2</th>\n",
       "      <td>2</td>\n",
       "      <td>aminor</td>\n",
       "      <td>[['Am', 'Am', 'Am', 'Am', 'Am', 'Am', 'Am', 'A...</td>\n",
       "      <td>mid_high</td>\n",
       "      <td>8</td>\n",
       "      <td>150</td>\n",
       "      <td>cinematic</td>\n",
       "      <td>riff</td>\n",
       "      <td>string_violin</td>\n",
       "      <td>standard</td>\n",
       "      <td>4/4</td>\n",
       "      <td>123</td>\n",
       "      <td>127</td>\n",
       "      <td>train</td>\n",
       "      <td>commu00003</td>\n",
       "    </tr>\n",
       "    <tr>\n",
       "      <th>3</th>\n",
       "      <td>3</td>\n",
       "      <td>cmajor</td>\n",
       "      <td>[['C', 'C', 'C', 'C', 'C', 'C', 'C', 'C', 'Gm'...</td>\n",
       "      <td>mid</td>\n",
       "      <td>8</td>\n",
       "      <td>110</td>\n",
       "      <td>cinematic</td>\n",
       "      <td>pad</td>\n",
       "      <td>choir</td>\n",
       "      <td>standard</td>\n",
       "      <td>4/4</td>\n",
       "      <td>45</td>\n",
       "      <td>46</td>\n",
       "      <td>train</td>\n",
       "      <td>commu00004</td>\n",
       "    </tr>\n",
       "    <tr>\n",
       "      <th>4</th>\n",
       "      <td>4</td>\n",
       "      <td>aminor</td>\n",
       "      <td>[['Am', 'Am', 'Am', 'Am', 'Em', 'Em', 'Em', 'E...</td>\n",
       "      <td>mid_low</td>\n",
       "      <td>4</td>\n",
       "      <td>60</td>\n",
       "      <td>cinematic</td>\n",
       "      <td>pad</td>\n",
       "      <td>acoustic_piano</td>\n",
       "      <td>standard</td>\n",
       "      <td>4/4</td>\n",
       "      <td>21</td>\n",
       "      <td>22</td>\n",
       "      <td>train</td>\n",
       "      <td>commu00005</td>\n",
       "    </tr>\n",
       "  </tbody>\n",
       "</table>\n",
       "</div>"
      ],
      "text/plain": [
       "   Unnamed: 0 audio_key                                 chord_progressions  \\\n",
       "0           0    aminor  [['Am', 'Am', 'Am', 'Am', 'Am', 'Am', 'Am', 'A...   \n",
       "1           1    cmajor  [['C', 'C', 'C', 'C', 'C', 'C', 'C', 'C', 'Dm'...   \n",
       "2           2    aminor  [['Am', 'Am', 'Am', 'Am', 'Am', 'Am', 'Am', 'A...   \n",
       "3           3    cmajor  [['C', 'C', 'C', 'C', 'C', 'C', 'C', 'C', 'Gm'...   \n",
       "4           4    aminor  [['Am', 'Am', 'Am', 'Am', 'Em', 'Em', 'Em', 'E...   \n",
       "\n",
       "  pitch_range  num_measures  bpm      genre     track_role             inst  \\\n",
       "0         mid             8  120  cinematic    main_melody  string_ensemble   \n",
       "1     mid_low             8   80     newage  accompaniment   acoustic_piano   \n",
       "2    mid_high             8  150  cinematic           riff    string_violin   \n",
       "3         mid             8  110  cinematic            pad            choir   \n",
       "4     mid_low             4   60  cinematic            pad   acoustic_piano   \n",
       "\n",
       "  sample_rhythm time_signature  min_velocity  max_velocity split_data  \\\n",
       "0      standard            4/4           101           102      train   \n",
       "1      standard            4/4            23            30      train   \n",
       "2      standard            4/4           123           127      train   \n",
       "3      standard            4/4            45            46      train   \n",
       "4      standard            4/4            21            22      train   \n",
       "\n",
       "           id  \n",
       "0  commu00001  \n",
       "1  commu00002  \n",
       "2  commu00003  \n",
       "3  commu00004  \n",
       "4  commu00005  "
      ]
     },
     "execution_count": 12,
     "metadata": {},
     "output_type": "execute_result"
    }
   ],
   "source": [
    "df.head()"
   ]
  },
  {
   "cell_type": "code",
   "execution_count": 13,
   "id": "00de335f",
   "metadata": {},
   "outputs": [
    {
     "name": "stdout",
     "output_type": "stream",
     "text": [
      "Categories in 'audio_key' variable:      ['aminor' 'cmajor']\n",
      "Categories in 'pitch_range' variable:   ['mid' 'mid_low' 'mid_high' 'low' 'high' 'very_low' 'very_high']\n",
      "Categories in 'num_measures' variable: [ 8  4  9 16 17  5]\n",
      "Categories in 'bpm ' variable:      [120  80 150 110  60 130  50 135  65  70 100  75  45  35 105  90  85 125\n",
      " 155  95 140 145]\n",
      "Categories in 'genre' variable:      ['cinematic' 'newage']\n",
      "Categories in 'track_role' variable:      ['main_melody' 'accompaniment' 'riff' 'pad' 'sub_melody' 'bass']\n",
      "Categories in 'sample_rhythm' variable:      ['standard' 'triplet']\n",
      "Categories in 'time_signature' variable:      ['4/4' '6/8' '3/4']\n",
      "Categories in 'split_data' variable:      ['train' 'val']\n"
     ]
    }
   ],
   "source": [
    "print(\"Categories in 'audio_key' variable:     \",end=\" \" )\n",
    "print(df['audio_key'].unique())\n",
    "\n",
    "print(\"Categories in 'pitch_range' variable:  \",end=\" \")\n",
    "print(df['pitch_range'].unique())\n",
    "\n",
    "print(\"Categories in 'num_measures' variable:\",end=\" \" )\n",
    "print(df['num_measures'].unique())\n",
    "\n",
    "print(\"Categories in 'bpm ' variable:     \",end=\" \" )\n",
    "print(df['bpm'].unique())\n",
    "\n",
    "print(\"Categories in 'genre' variable:     \",end=\" \" )\n",
    "print(df['genre'].unique())\n",
    "\n",
    "print(\"Categories in 'track_role' variable:     \",end=\" \" )\n",
    "print(df['track_role'].unique())\n",
    "\n",
    "print(\"Categories in 'sample_rhythm' variable:     \",end=\" \" )\n",
    "print(df['sample_rhythm'].unique())\n",
    "\n",
    "print(\"Categories in 'time_signature' variable:     \",end=\" \" )\n",
    "print(df['time_signature'].unique())\n",
    "\n",
    "print(\"Categories in 'split_data' variable:     \",end=\" \" )\n",
    "print(df['split_data'].unique())"
   ]
  },
  {
   "cell_type": "code",
   "execution_count": 14,
   "id": "ca793f19",
   "metadata": {},
   "outputs": [
    {
     "name": "stdout",
     "output_type": "stream",
     "text": [
      "We have 5 numerical features : ['Unnamed: 0', 'num_measures', 'bpm', 'min_velocity', 'max_velocity']\n",
      "\n",
      "We have 10 categorical features : ['audio_key', 'chord_progressions', 'pitch_range', 'genre', 'track_role', 'inst', 'sample_rhythm', 'time_signature', 'split_data', 'id']\n"
     ]
    }
   ],
   "source": [
    "# define numerical & categorical columns\n",
    "numeric_features = [feature for feature in df.columns if df[feature].dtype != 'O']\n",
    "categorical_features = [feature for feature in df.columns if df[feature].dtype == 'O']\n",
    "\n",
    "# print columns\n",
    "print('We have {} numerical features : {}'.format(len(numeric_features), numeric_features))\n",
    "print('\\nWe have {} categorical features : {}'.format(len(categorical_features), categorical_features))"
   ]
  },
  {
   "cell_type": "code",
   "execution_count": 15,
   "id": "b07650d2",
   "metadata": {},
   "outputs": [
    {
     "data": {
      "text/plain": [
       "<Axes: xlabel='audio_key', ylabel='count'>"
      ]
     },
     "execution_count": 15,
     "metadata": {},
     "output_type": "execute_result"
    },
    {
     "data": {
      "image/png": "[encoded data removed]",
      "text/plain": [
       "<Figure size 640x480 with 1 Axes>"
      ]
     },
     "metadata": {},
     "output_type": "display_data"
    }
   ],
   "source": [
    "sn.set_style('whitegrid')\n",
    "sn.countplot(x='audio_key',data=df)"
   ]
  },
  {
   "cell_type": "code",
   "execution_count": 16,
   "id": "3fd4103f",
   "metadata": {},
   "outputs": [
    {
     "data": {
      "text/plain": [
       "<Axes: xlabel='pitch_range', ylabel='count'>"
      ]
     },
     "execution_count": 16,
     "metadata": {},
     "output_type": "execute_result"
    },
    {
     "data": {
      "image/png": "[encoded data removed]",
      "text/plain": [
       "<Figure size 640x480 with 1 Axes>"
      ]
     },
     "metadata": {},
     "output_type": "display_data"
    }
   ],
   "source": [
    "sn.set_style('whitegrid')\n",
    "sn.countplot(x='pitch_range',data=df)"
   ]
  },
  {
   "cell_type": "code",
   "execution_count": 17,
   "id": "9da62ad2",
   "metadata": {},
   "outputs": [
    {
     "data": {
      "text/plain": [
       "<Axes: xlabel='genre', ylabel='count'>"
      ]
     },
     "execution_count": 17,
     "metadata": {},
     "output_type": "execute_result"
    },
    {
     "data": {
      "image/png": "[encoded data removed]",
      "text/plain": [
       "<Figure size 640x480 with 1 Axes>"
      ]
     },
     "metadata": {},
     "output_type": "display_data"
    }
   ],
   "source": [
    "sn.set_style('whitegrid')\n",
    "sn.countplot(x='genre',data=df)"
   ]
  },
  {
   "cell_type": "code",
   "execution_count": 18,
   "id": "992dd25c",
   "metadata": {},
   "outputs": [
    {
     "data": {
      "text/plain": [
       "<Axes: xlabel='track_role', ylabel='count'>"
      ]
     },
     "execution_count": 18,
     "metadata": {},
     "output_type": "execute_result"
    },
    {
     "data": {
      "image/png": "[encoded data removed]",
      "text/plain": [
       "<Figure size 640x480 with 1 Axes>"
      ]
     },
     "metadata": {},
     "output_type": "display_data"
    }
   ],
   "source": [
    "sn.set_style('whitegrid')\n",
    "sn.countplot(x='track_role',data=df)"
   ]
  },
  {
   "cell_type": "code",
   "execution_count": 19,
   "id": "7b797439",
   "metadata": {},
   "outputs": [
    {
     "data": {
      "text/html": [
       "<div>\n",
       "<style scoped>\n",
       "    .dataframe tbody tr th:only-of-type {\n",
       "        vertical-align: middle;\n",
       "    }\n",
       "\n",
       "    .dataframe tbody tr th {\n",
       "        vertical-align: top;\n",
       "    }\n",
       "\n",
       "    .dataframe thead th {\n",
       "        text-align: right;\n",
       "    }\n",
       "</style>\n",
       "<table border=\"1\" class=\"dataframe\">\n",
       "  <thead>\n",
       "    <tr style=\"text-align: right;\">\n",
       "      <th></th>\n",
       "      <th>Unnamed: 0</th>\n",
       "      <th>num_measures</th>\n",
       "      <th>bpm</th>\n",
       "      <th>min_velocity</th>\n",
       "      <th>max_velocity</th>\n",
       "    </tr>\n",
       "    <tr>\n",
       "      <th>inst</th>\n",
       "      <th></th>\n",
       "      <th></th>\n",
       "      <th></th>\n",
       "      <th></th>\n",
       "      <th></th>\n",
       "    </tr>\n",
       "  </thead>\n",
       "  <tbody>\n",
       "    <tr>\n",
       "      <th>accordion</th>\n",
       "      <td>358887</td>\n",
       "      <td>853</td>\n",
       "      <td>8215</td>\n",
       "      <td>3694</td>\n",
       "      <td>4752</td>\n",
       "    </tr>\n",
       "    <tr>\n",
       "      <th>acoustic_bass</th>\n",
       "      <td>137856</td>\n",
       "      <td>288</td>\n",
       "      <td>2790</td>\n",
       "      <td>1362</td>\n",
       "      <td>1499</td>\n",
       "    </tr>\n",
       "    <tr>\n",
       "      <th>acoustic_bass-2</th>\n",
       "      <td>72402</td>\n",
       "      <td>128</td>\n",
       "      <td>1240</td>\n",
       "      <td>593</td>\n",
       "      <td>661</td>\n",
       "    </tr>\n",
       "    <tr>\n",
       "      <th>acoustic_guitar</th>\n",
       "      <td>1666317</td>\n",
       "      <td>2300</td>\n",
       "      <td>23090</td>\n",
       "      <td>10634</td>\n",
       "      <td>14456</td>\n",
       "    </tr>\n",
       "    <tr>\n",
       "      <th>acoustic_piano</th>\n",
       "      <td>20414729</td>\n",
       "      <td>28298</td>\n",
       "      <td>328300</td>\n",
       "      <td>173550</td>\n",
       "      <td>218978</td>\n",
       "    </tr>\n",
       "    <tr>\n",
       "      <th>...</th>\n",
       "      <td>...</td>\n",
       "      <td>...</td>\n",
       "      <td>...</td>\n",
       "      <td>...</td>\n",
       "      <td>...</td>\n",
       "    </tr>\n",
       "    <tr>\n",
       "      <th>tuba-6</th>\n",
       "      <td>5000</td>\n",
       "      <td>8</td>\n",
       "      <td>240</td>\n",
       "      <td>161</td>\n",
       "      <td>173</td>\n",
       "    </tr>\n",
       "    <tr>\n",
       "      <th>vibraphone</th>\n",
       "      <td>124822</td>\n",
       "      <td>136</td>\n",
       "      <td>1530</td>\n",
       "      <td>1209</td>\n",
       "      <td>1442</td>\n",
       "    </tr>\n",
       "    <tr>\n",
       "      <th>vibraphone-1</th>\n",
       "      <td>7093</td>\n",
       "      <td>8</td>\n",
       "      <td>90</td>\n",
       "      <td>71</td>\n",
       "      <td>96</td>\n",
       "    </tr>\n",
       "    <tr>\n",
       "      <th>vibraphone-2</th>\n",
       "      <td>79093</td>\n",
       "      <td>88</td>\n",
       "      <td>990</td>\n",
       "      <td>716</td>\n",
       "      <td>840</td>\n",
       "    </tr>\n",
       "    <tr>\n",
       "      <th>xylophone</th>\n",
       "      <td>26820</td>\n",
       "      <td>20</td>\n",
       "      <td>625</td>\n",
       "      <td>337</td>\n",
       "      <td>437</td>\n",
       "    </tr>\n",
       "  </tbody>\n",
       "</table>\n",
       "<p>130 rows × 5 columns</p>\n",
       "</div>"
      ],
      "text/plain": [
       "                 Unnamed: 0  num_measures     bpm  min_velocity  max_velocity\n",
       "inst                                                                         \n",
       "accordion            358887           853    8215          3694          4752\n",
       "acoustic_bass        137856           288    2790          1362          1499\n",
       "acoustic_bass-2       72402           128    1240           593           661\n",
       "acoustic_guitar     1666317          2300   23090         10634         14456\n",
       "acoustic_piano     20414729         28298  328300        173550        218978\n",
       "...                     ...           ...     ...           ...           ...\n",
       "tuba-6                 5000             8     240           161           173\n",
       "vibraphone           124822           136    1530          1209          1442\n",
       "vibraphone-1           7093             8      90            71            96\n",
       "vibraphone-2          79093            88     990           716           840\n",
       "xylophone             26820            20     625           337           437\n",
       "\n",
       "[130 rows x 5 columns]"
      ]
     },
     "execution_count": 19,
     "metadata": {},
     "output_type": "execute_result"
    }
   ],
   "source": [
    "df.groupby('inst').sum()"
   ]
  },
  {
   "cell_type": "code",
   "execution_count": 20,
   "id": "0efabbd2",
   "metadata": {},
   "outputs": [
    {
     "data": {
      "text/plain": [
       "<Axes: xlabel='sample_rhythm', ylabel='count'>"
      ]
     },
     "execution_count": 20,
     "metadata": {},
     "output_type": "execute_result"
    },
    {
     "data": {
      "image/png": "[encoded data removed]",
      "text/plain": [
       "<Figure size 640x480 with 1 Axes>"
      ]
     },
     "metadata": {},
     "output_type": "display_data"
    }
   ],
   "source": [
    "sn.set_style('whitegrid')\n",
    "sn.countplot(x='sample_rhythm',data=df)"
   ]
  },
  {
   "cell_type": "code",
   "execution_count": 21,
   "id": "239cf747",
   "metadata": {},
   "outputs": [
    {
     "data": {
      "text/html": [
       "<div>\n",
       "<style scoped>\n",
       "    .dataframe tbody tr th:only-of-type {\n",
       "        vertical-align: middle;\n",
       "    }\n",
       "\n",
       "    .dataframe tbody tr th {\n",
       "        vertical-align: top;\n",
       "    }\n",
       "\n",
       "    .dataframe thead th {\n",
       "        text-align: right;\n",
       "    }\n",
       "</style>\n",
       "<table border=\"1\" class=\"dataframe\">\n",
       "  <thead>\n",
       "    <tr style=\"text-align: right;\">\n",
       "      <th></th>\n",
       "      <th>Unnamed: 0</th>\n",
       "      <th>audio_key</th>\n",
       "      <th>chord_progressions</th>\n",
       "      <th>pitch_range</th>\n",
       "      <th>num_measures</th>\n",
       "      <th>bpm</th>\n",
       "      <th>genre</th>\n",
       "      <th>track_role</th>\n",
       "      <th>inst</th>\n",
       "      <th>sample_rhythm</th>\n",
       "      <th>time_signature</th>\n",
       "      <th>min_velocity</th>\n",
       "      <th>max_velocity</th>\n",
       "      <th>split_data</th>\n",
       "      <th>id</th>\n",
       "    </tr>\n",
       "  </thead>\n",
       "  <tbody>\n",
       "    <tr>\n",
       "      <th>0</th>\n",
       "      <td>0</td>\n",
       "      <td>aminor</td>\n",
       "      <td>[['Am', 'Am', 'Am', 'Am', 'Am', 'Am', 'Am', 'A...</td>\n",
       "      <td>mid</td>\n",
       "      <td>8</td>\n",
       "      <td>120</td>\n",
       "      <td>cinematic</td>\n",
       "      <td>main_melody</td>\n",
       "      <td>string_ensemble</td>\n",
       "      <td>standard</td>\n",
       "      <td>4/4</td>\n",
       "      <td>101</td>\n",
       "      <td>102</td>\n",
       "      <td>train</td>\n",
       "      <td>commu00001</td>\n",
       "    </tr>\n",
       "    <tr>\n",
       "      <th>1</th>\n",
       "      <td>1</td>\n",
       "      <td>cmajor</td>\n",
       "      <td>[['C', 'C', 'C', 'C', 'C', 'C', 'C', 'C', 'Dm'...</td>\n",
       "      <td>mid_low</td>\n",
       "      <td>8</td>\n",
       "      <td>80</td>\n",
       "      <td>newage</td>\n",
       "      <td>accompaniment</td>\n",
       "      <td>acoustic_piano</td>\n",
       "      <td>standard</td>\n",
       "      <td>4/4</td>\n",
       "      <td>23</td>\n",
       "      <td>30</td>\n",
       "      <td>train</td>\n",
       "      <td>commu00002</td>\n",
       "    </tr>\n",
       "    <tr>\n",
       "      <th>2</th>\n",
       "      <td>2</td>\n",
       "      <td>aminor</td>\n",
       "      <td>[['Am', 'Am', 'Am', 'Am', 'Am', 'Am', 'Am', 'A...</td>\n",
       "      <td>mid_high</td>\n",
       "      <td>8</td>\n",
       "      <td>150</td>\n",
       "      <td>cinematic</td>\n",
       "      <td>riff</td>\n",
       "      <td>string_violin</td>\n",
       "      <td>standard</td>\n",
       "      <td>4/4</td>\n",
       "      <td>123</td>\n",
       "      <td>127</td>\n",
       "      <td>train</td>\n",
       "      <td>commu00003</td>\n",
       "    </tr>\n",
       "    <tr>\n",
       "      <th>3</th>\n",
       "      <td>3</td>\n",
       "      <td>cmajor</td>\n",
       "      <td>[['C', 'C', 'C', 'C', 'C', 'C', 'C', 'C', 'Gm'...</td>\n",
       "      <td>mid</td>\n",
       "      <td>8</td>\n",
       "      <td>110</td>\n",
       "      <td>cinematic</td>\n",
       "      <td>pad</td>\n",
       "      <td>choir</td>\n",
       "      <td>standard</td>\n",
       "      <td>4/4</td>\n",
       "      <td>45</td>\n",
       "      <td>46</td>\n",
       "      <td>train</td>\n",
       "      <td>commu00004</td>\n",
       "    </tr>\n",
       "    <tr>\n",
       "      <th>4</th>\n",
       "      <td>4</td>\n",
       "      <td>aminor</td>\n",
       "      <td>[['Am', 'Am', 'Am', 'Am', 'Em', 'Em', 'Em', 'E...</td>\n",
       "      <td>mid_low</td>\n",
       "      <td>4</td>\n",
       "      <td>60</td>\n",
       "      <td>cinematic</td>\n",
       "      <td>pad</td>\n",
       "      <td>acoustic_piano</td>\n",
       "      <td>standard</td>\n",
       "      <td>4/4</td>\n",
       "      <td>21</td>\n",
       "      <td>22</td>\n",
       "      <td>train</td>\n",
       "      <td>commu00005</td>\n",
       "    </tr>\n",
       "  </tbody>\n",
       "</table>\n",
       "</div>"
      ],
      "text/plain": [
       "   Unnamed: 0 audio_key                                 chord_progressions  \\\n",
       "0           0    aminor  [['Am', 'Am', 'Am', 'Am', 'Am', 'Am', 'Am', 'A...   \n",
       "1           1    cmajor  [['C', 'C', 'C', 'C', 'C', 'C', 'C', 'C', 'Dm'...   \n",
       "2           2    aminor  [['Am', 'Am', 'Am', 'Am', 'Am', 'Am', 'Am', 'A...   \n",
       "3           3    cmajor  [['C', 'C', 'C', 'C', 'C', 'C', 'C', 'C', 'Gm'...   \n",
       "4           4    aminor  [['Am', 'Am', 'Am', 'Am', 'Em', 'Em', 'Em', 'E...   \n",
       "\n",
       "  pitch_range  num_measures  bpm      genre     track_role             inst  \\\n",
       "0         mid             8  120  cinematic    main_melody  string_ensemble   \n",
       "1     mid_low             8   80     newage  accompaniment   acoustic_piano   \n",
       "2    mid_high             8  150  cinematic           riff    string_violin   \n",
       "3         mid             8  110  cinematic            pad            choir   \n",
       "4     mid_low             4   60  cinematic            pad   acoustic_piano   \n",
       "\n",
       "  sample_rhythm time_signature  min_velocity  max_velocity split_data  \\\n",
       "0      standard            4/4           101           102      train   \n",
       "1      standard            4/4            23            30      train   \n",
       "2      standard            4/4           123           127      train   \n",
       "3      standard            4/4            45            46      train   \n",
       "4      standard            4/4            21            22      train   \n",
       "\n",
       "           id  \n",
       "0  commu00001  \n",
       "1  commu00002  \n",
       "2  commu00003  \n",
       "3  commu00004  \n",
       "4  commu00005  "
      ]
     },
     "execution_count": 21,
     "metadata": {},
     "output_type": "execute_result"
    }
   ],
   "source": [
    "df.head()"
   ]
  },
  {
   "cell_type": "code",
   "execution_count": 22,
   "id": "dd6b9eb4",
   "metadata": {},
   "outputs": [
    {
     "data": {
      "text/plain": [
       "<Axes: >"
      ]
     },
     "execution_count": 22,
     "metadata": {},
     "output_type": "execute_result"
    },
    {
     "data": {
      "image/png": "[encoded data removed]",
      "text/plain": [
       "<Figure size 1500x1500 with 2 Axes>"
      ]
     },
     "metadata": {},
     "output_type": "display_data"
    }
   ],
   "source": [
    "corr=df.corr(method='spearman')\n",
    "plt.figure(figsize=(15,15))\n",
    "sn.heatmap(corr,vmax=.8,linewidths=0.01,square=True,annot=True,cmap='RdBu',linecolor='black')"
   ]
  },
  {
   "cell_type": "code",
   "execution_count": null,
   "id": "7941fcd8",
   "metadata": {},
   "outputs": [],
   "source": []
  }
 ],
 "metadata": {
  "kernelspec": {
   "display_name": "Python 3 (ipykernel)",
   "language": "python",
   "name": "python3"
  },
  "language_info": {
   "codemirror_mode": {
    "name": "ipython",
    "version": 3
   },
   "file_extension": ".py",
   "mimetype": "text/x-python",
   "name": "python",
   "nbconvert_exporter": "python",
   "pygments_lexer": "ipython3",
   "version": "3.10.9"
  }
 },
 "nbformat": 4,
 "nbformat_minor": 5
}
