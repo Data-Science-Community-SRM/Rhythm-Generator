{
 "cells": [
  {
   "attachments": {},
   "cell_type": "markdown",
   "metadata": {},
   "source": [
    "# EDA\n"
   ]
  },
  {
   "cell_type": "markdown",
   "metadata": {},
   "source": []
  }
 ],
 "metadata": {
  "kernelspec": {
   "display_name": "rstudio",
   "language": "python",
   "name": "python3"
  },
  "language_info": {
   "name": "python",
   "version": "3.7.1"
  },
  "orig_nbformat": 4,
  "vscode": {
   "interpreter": {
    "hash": "614ef554a7fa1c6b45f8d0f01ae29a7bb7f97bc64c5c86a0ec65be55aa8f4982"
   }
  }
 },
 "nbformat": 4,
 "nbformat_minor": 2
}
