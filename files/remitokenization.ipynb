{
 "cells": [
  {
   "attachments": {},
   "cell_type": "markdown",
   "metadata": {},
   "source": [
    "# Remi Tokenization\n"
   ]
  },
  {
   "cell_type": "code",
   "execution_count": 1,
   "metadata": {},
   "outputs": [],
   "source": [
    "import miditoolkit\n",
    "import utils"
   ]
  },
  {
   "cell_type": "code",
   "execution_count": 2,
   "metadata": {},
   "outputs": [],
   "source": [
    "midi_obj = miditoolkit.midi.parser.MidiFile(r'dataset\\commu_midi\\commu_midi\\train\\raw\\commu00001.mid')"
   ]
  },
  {
   "attachments": {},
   "cell_type": "markdown",
   "metadata": {},
   "source": [
    "Extracting Notes"
   ]
  },
  {
   "cell_type": "code",
   "execution_count": 3,
   "metadata": {},
   "outputs": [
    {
     "name": "stdout",
     "output_type": "stream",
     "text": [
      "Note(start=480, end=960, pitch=57, velocity=102)\n",
      "Note(start=480, end=960, pitch=69, velocity=102)\n",
      "Note(start=960, end=1440, pitch=60, velocity=101)\n",
      "Note(start=960, end=1440, pitch=72, velocity=102)\n",
      "Note(start=1440, end=1920, pitch=62, velocity=102)\n",
      "Note(start=1440, end=1920, pitch=74, velocity=101)\n",
      "Note(start=1920, end=2880, pitch=64, velocity=102)\n",
      "Note(start=1920, end=2880, pitch=76, velocity=102)\n",
      "Note(start=2880, end=3840, pitch=60, velocity=102)\n",
      "Note(start=2880, end=3840, pitch=72, velocity=102)\n",
      "Note(start=3840, end=4800, pitch=62, velocity=101)\n",
      "Note(start=3840, end=4800, pitch=74, velocity=101)\n",
      "Note(start=4800, end=5280, pitch=62, velocity=101)\n",
      "Note(start=4800, end=5280, pitch=74, velocity=102)\n",
      "Note(start=5280, end=5760, pitch=64, velocity=101)\n",
      "Note(start=5280, end=5760, pitch=76, velocity=101)\n",
      "Note(start=5760, end=7680, pitch=65, velocity=102)\n",
      "Note(start=5760, end=7680, pitch=77, velocity=102)\n",
      "Note(start=8160, end=8640, pitch=57, velocity=101)\n",
      "Note(start=8160, end=8640, pitch=69, velocity=102)\n",
      "Note(start=8640, end=9120, pitch=60, velocity=102)\n",
      "Note(start=8640, end=9120, pitch=72, velocity=101)\n",
      "Note(start=9120, end=9600, pitch=62, velocity=101)\n",
      "Note(start=9120, end=9600, pitch=74, velocity=102)\n",
      "Note(start=9600, end=10560, pitch=64, velocity=101)\n",
      "Note(start=9600, end=10560, pitch=76, velocity=102)\n",
      "Note(start=10560, end=11520, pitch=67, velocity=101)\n",
      "Note(start=10560, end=11520, pitch=79, velocity=101)\n",
      "Note(start=11520, end=12480, pitch=67, velocity=102)\n",
      "Note(start=11520, end=12480, pitch=79, velocity=102)\n",
      "Note(start=12480, end=12960, pitch=67, velocity=101)\n",
      "Note(start=12480, end=12960, pitch=79, velocity=101)\n",
      "Note(start=12960, end=13440, pitch=69, velocity=102)\n",
      "Note(start=12960, end=13440, pitch=81, velocity=102)\n",
      "Note(start=13440, end=15360, pitch=66, velocity=102)\n",
      "Note(start=13440, end=15360, pitch=78, velocity=101)\n"
     ]
    }
   ],
   "source": [
    "print(*midi_obj.instruments[0].notes, sep='\\n')"
   ]
  },
  {
   "cell_type": "code",
   "execution_count": 4,
   "metadata": {},
   "outputs": [
    {
     "name": "stdout",
     "output_type": "stream",
     "text": [
      "120.0 BPM at 0 ticks\n"
     ]
    }
   ],
   "source": [
    "print(*midi_obj.tempo_changes[:], sep='\\n')"
   ]
  },
  {
   "attachments": {},
   "cell_type": "markdown",
   "metadata": {},
   "source": [
    "Note Items"
   ]
  },
  {
   "cell_type": "code",
   "execution_count": 5,
   "metadata": {},
   "outputs": [],
   "source": [
    "note_items, tempo_items = utils.read_items(r'dataset\\commu_midi\\commu_midi\\train\\raw\\commu00001.mid')"
   ]
  },
  {
   "cell_type": "code",
   "execution_count": 6,
   "metadata": {},
   "outputs": [
    {
     "name": "stdout",
     "output_type": "stream",
     "text": [
      "Item(name=Note, start=480, end=960, velocity=102, pitch=57)\n",
      "Item(name=Note, start=480, end=960, velocity=102, pitch=69)\n",
      "Item(name=Note, start=960, end=1440, velocity=101, pitch=60)\n",
      "Item(name=Note, start=960, end=1440, velocity=102, pitch=72)\n",
      "Item(name=Note, start=1440, end=1920, velocity=102, pitch=62)\n",
      "Item(name=Note, start=1440, end=1920, velocity=101, pitch=74)\n",
      "Item(name=Note, start=1920, end=2880, velocity=102, pitch=64)\n",
      "Item(name=Note, start=1920, end=2880, velocity=102, pitch=76)\n",
      "Item(name=Note, start=2880, end=3840, velocity=102, pitch=60)\n",
      "Item(name=Note, start=2880, end=3840, velocity=102, pitch=72)\n",
      "Item(name=Note, start=3840, end=4800, velocity=101, pitch=62)\n",
      "Item(name=Note, start=3840, end=4800, velocity=101, pitch=74)\n",
      "Item(name=Note, start=4800, end=5280, velocity=101, pitch=62)\n",
      "Item(name=Note, start=4800, end=5280, velocity=102, pitch=74)\n",
      "Item(name=Note, start=5280, end=5760, velocity=101, pitch=64)\n",
      "Item(name=Note, start=5280, end=5760, velocity=101, pitch=76)\n",
      "Item(name=Note, start=5760, end=7680, velocity=102, pitch=65)\n",
      "Item(name=Note, start=5760, end=7680, velocity=102, pitch=77)\n",
      "Item(name=Note, start=8160, end=8640, velocity=101, pitch=57)\n",
      "Item(name=Note, start=8160, end=8640, velocity=102, pitch=69)\n",
      "Item(name=Note, start=8640, end=9120, velocity=102, pitch=60)\n",
      "Item(name=Note, start=8640, end=9120, velocity=101, pitch=72)\n",
      "Item(name=Note, start=9120, end=9600, velocity=101, pitch=62)\n",
      "Item(name=Note, start=9120, end=9600, velocity=102, pitch=74)\n",
      "Item(name=Note, start=9600, end=10560, velocity=101, pitch=64)\n",
      "Item(name=Note, start=9600, end=10560, velocity=102, pitch=76)\n",
      "Item(name=Note, start=10560, end=11520, velocity=101, pitch=67)\n",
      "Item(name=Note, start=10560, end=11520, velocity=101, pitch=79)\n",
      "Item(name=Note, start=11520, end=12480, velocity=102, pitch=67)\n",
      "Item(name=Note, start=11520, end=12480, velocity=102, pitch=79)\n",
      "Item(name=Note, start=12480, end=12960, velocity=101, pitch=67)\n",
      "Item(name=Note, start=12480, end=12960, velocity=101, pitch=79)\n",
      "Item(name=Note, start=12960, end=13440, velocity=102, pitch=69)\n",
      "Item(name=Note, start=12960, end=13440, velocity=102, pitch=81)\n",
      "Item(name=Note, start=13440, end=15360, velocity=102, pitch=66)\n",
      "Item(name=Note, start=13440, end=15360, velocity=101, pitch=78)\n"
     ]
    }
   ],
   "source": [
    "print(*note_items, sep='\\n')"
   ]
  },
  {
   "cell_type": "code",
   "execution_count": 7,
   "metadata": {},
   "outputs": [
    {
     "name": "stdout",
     "output_type": "stream",
     "text": [
      "Item(name=Tempo, start=0, end=None, velocity=None, pitch=120)\n"
     ]
    }
   ],
   "source": [
    "print(*tempo_items[:10], sep='\\n')"
   ]
  },
  {
   "attachments": {},
   "cell_type": "markdown",
   "metadata": {},
   "source": [
    "Quantization of note items"
   ]
  },
  {
   "cell_type": "code",
   "execution_count": 8,
   "metadata": {},
   "outputs": [],
   "source": [
    "note_items = utils.quantize_items(note_items)"
   ]
  },
  {
   "cell_type": "code",
   "execution_count": 9,
   "metadata": {},
   "outputs": [
    {
     "name": "stdout",
     "output_type": "stream",
     "text": [
      "Item(name=Note, start=480, end=960, velocity=102, pitch=57)\n",
      "Item(name=Note, start=480, end=960, velocity=102, pitch=69)\n",
      "Item(name=Note, start=960, end=1440, velocity=101, pitch=60)\n",
      "Item(name=Note, start=960, end=1440, velocity=102, pitch=72)\n",
      "Item(name=Note, start=1440, end=1920, velocity=102, pitch=62)\n",
      "Item(name=Note, start=1440, end=1920, velocity=101, pitch=74)\n",
      "Item(name=Note, start=1920, end=2880, velocity=102, pitch=64)\n",
      "Item(name=Note, start=1920, end=2880, velocity=102, pitch=76)\n",
      "Item(name=Note, start=2880, end=3840, velocity=102, pitch=60)\n",
      "Item(name=Note, start=2880, end=3840, velocity=102, pitch=72)\n",
      "Item(name=Note, start=3840, end=4800, velocity=101, pitch=62)\n",
      "Item(name=Note, start=3840, end=4800, velocity=101, pitch=74)\n",
      "Item(name=Note, start=4800, end=5280, velocity=101, pitch=62)\n",
      "Item(name=Note, start=4800, end=5280, velocity=102, pitch=74)\n",
      "Item(name=Note, start=5280, end=5760, velocity=101, pitch=64)\n",
      "Item(name=Note, start=5280, end=5760, velocity=101, pitch=76)\n",
      "Item(name=Note, start=5760, end=7680, velocity=102, pitch=65)\n",
      "Item(name=Note, start=5760, end=7680, velocity=102, pitch=77)\n",
      "Item(name=Note, start=8160, end=8640, velocity=101, pitch=57)\n",
      "Item(name=Note, start=8160, end=8640, velocity=102, pitch=69)\n",
      "Item(name=Note, start=8640, end=9120, velocity=102, pitch=60)\n",
      "Item(name=Note, start=8640, end=9120, velocity=101, pitch=72)\n",
      "Item(name=Note, start=9120, end=9600, velocity=101, pitch=62)\n",
      "Item(name=Note, start=9120, end=9600, velocity=102, pitch=74)\n",
      "Item(name=Note, start=9600, end=10560, velocity=101, pitch=64)\n",
      "Item(name=Note, start=9600, end=10560, velocity=102, pitch=76)\n",
      "Item(name=Note, start=10560, end=11520, velocity=101, pitch=67)\n",
      "Item(name=Note, start=10560, end=11520, velocity=101, pitch=79)\n",
      "Item(name=Note, start=11520, end=12480, velocity=102, pitch=67)\n",
      "Item(name=Note, start=11520, end=12480, velocity=102, pitch=79)\n",
      "Item(name=Note, start=12480, end=12960, velocity=101, pitch=67)\n",
      "Item(name=Note, start=12480, end=12960, velocity=101, pitch=79)\n",
      "Item(name=Note, start=12960, end=13440, velocity=102, pitch=69)\n",
      "Item(name=Note, start=12960, end=13440, velocity=102, pitch=81)\n",
      "Item(name=Note, start=13320, end=15240, velocity=102, pitch=66)\n",
      "Item(name=Note, start=13320, end=15240, velocity=101, pitch=78)\n"
     ]
    }
   ],
   "source": [
    "\n",
    "print(*note_items, sep='\\n')"
   ]
  },
  {
   "attachments": {},
   "cell_type": "markdown",
   "metadata": {},
   "source": [
    "Extracting chords"
   ]
  },
  {
   "cell_type": "code",
   "execution_count": 10,
   "metadata": {},
   "outputs": [],
   "source": [
    "chord_items = utils.extract_chords(note_items)"
   ]
  },
  {
   "cell_type": "code",
   "execution_count": 11,
   "metadata": {},
   "outputs": [
    {
     "name": "stdout",
     "output_type": "stream",
     "text": [
      "Item(name=Chord, start=0, end=1920, velocity=None, pitch=A:min)\n",
      "Item(name=Chord, start=1920, end=7680, velocity=None, pitch=C:maj)\n",
      "Item(name=Chord, start=7680, end=9600, velocity=None, pitch=A:min)\n",
      "Item(name=Chord, start=9600, end=11520, velocity=None, pitch=E:min)\n",
      "Item(name=Chord, start=11520, end=15240, velocity=None, pitch=F#:min)\n"
     ]
    }
   ],
   "source": [
    "print(*chord_items, sep='\\n')"
   ]
  },
  {
   "attachments": {},
   "cell_type": "markdown",
   "metadata": {},
   "source": [
    "Grouping"
   ]
  },
  {
   "cell_type": "code",
   "execution_count": 12,
   "metadata": {},
   "outputs": [],
   "source": [
    "items = chord_items + tempo_items + note_items\n",
    "max_time = note_items[-1].end\n",
    "groups = utils.group_items(items, max_time)"
   ]
  },
  {
   "cell_type": "code",
   "execution_count": 13,
   "metadata": {},
   "outputs": [
    {
     "name": "stdout",
     "output_type": "stream",
     "text": [
      "0\n",
      "Item(name=Chord, start=0, end=1920, velocity=None, pitch=A:min)\n",
      "Item(name=Tempo, start=0, end=None, velocity=None, pitch=120)\n",
      "Item(name=Note, start=480, end=960, velocity=102, pitch=57)\n",
      "Item(name=Note, start=480, end=960, velocity=102, pitch=69)\n",
      "Item(name=Note, start=960, end=1440, velocity=101, pitch=60)\n",
      "Item(name=Note, start=960, end=1440, velocity=102, pitch=72)\n",
      "Item(name=Note, start=1440, end=1920, velocity=102, pitch=62)\n",
      "Item(name=Note, start=1440, end=1920, velocity=101, pitch=74)\n",
      "1920\n",
      "\n",
      "1920\n",
      "Item(name=Chord, start=1920, end=7680, velocity=None, pitch=C:maj)\n",
      "Item(name=Note, start=1920, end=2880, velocity=102, pitch=64)\n",
      "Item(name=Note, start=1920, end=2880, velocity=102, pitch=76)\n",
      "Item(name=Note, start=2880, end=3840, velocity=102, pitch=60)\n",
      "Item(name=Note, start=2880, end=3840, velocity=102, pitch=72)\n",
      "3840\n",
      "\n",
      "3840\n",
      "Item(name=Note, start=3840, end=4800, velocity=101, pitch=62)\n",
      "Item(name=Note, start=3840, end=4800, velocity=101, pitch=74)\n",
      "Item(name=Note, start=4800, end=5280, velocity=101, pitch=62)\n",
      "Item(name=Note, start=4800, end=5280, velocity=102, pitch=74)\n",
      "Item(name=Note, start=5280, end=5760, velocity=101, pitch=64)\n",
      "Item(name=Note, start=5280, end=5760, velocity=101, pitch=76)\n",
      "5760\n",
      "\n",
      "5760\n",
      "Item(name=Note, start=5760, end=7680, velocity=102, pitch=65)\n",
      "Item(name=Note, start=5760, end=7680, velocity=102, pitch=77)\n",
      "7680\n",
      "\n",
      "7680\n",
      "Item(name=Chord, start=7680, end=9600, velocity=None, pitch=A:min)\n",
      "Item(name=Note, start=8160, end=8640, velocity=101, pitch=57)\n",
      "Item(name=Note, start=8160, end=8640, velocity=102, pitch=69)\n",
      "Item(name=Note, start=8640, end=9120, velocity=102, pitch=60)\n",
      "Item(name=Note, start=8640, end=9120, velocity=101, pitch=72)\n",
      "Item(name=Note, start=9120, end=9600, velocity=101, pitch=62)\n",
      "Item(name=Note, start=9120, end=9600, velocity=102, pitch=74)\n",
      "9600\n",
      "\n",
      "9600\n",
      "Item(name=Chord, start=9600, end=11520, velocity=None, pitch=E:min)\n",
      "Item(name=Note, start=9600, end=10560, velocity=101, pitch=64)\n",
      "Item(name=Note, start=9600, end=10560, velocity=102, pitch=76)\n",
      "Item(name=Note, start=10560, end=11520, velocity=101, pitch=67)\n",
      "Item(name=Note, start=10560, end=11520, velocity=101, pitch=79)\n",
      "11520\n",
      "\n",
      "11520\n",
      "Item(name=Chord, start=11520, end=15240, velocity=None, pitch=F#:min)\n",
      "Item(name=Note, start=11520, end=12480, velocity=102, pitch=67)\n",
      "Item(name=Note, start=11520, end=12480, velocity=102, pitch=79)\n",
      "Item(name=Note, start=12480, end=12960, velocity=101, pitch=67)\n",
      "Item(name=Note, start=12480, end=12960, velocity=101, pitch=79)\n",
      "Item(name=Note, start=12960, end=13440, velocity=102, pitch=69)\n",
      "Item(name=Note, start=12960, end=13440, velocity=102, pitch=81)\n",
      "Item(name=Note, start=13320, end=15240, velocity=102, pitch=66)\n",
      "Item(name=Note, start=13320, end=15240, velocity=101, pitch=78)\n",
      "13440\n",
      "\n",
      "13440\n",
      "15360\n",
      "\n"
     ]
    }
   ],
   "source": [
    "for g in groups:\n",
    "    print(*g, sep='\\n')\n",
    "    print()"
   ]
  },
  {
   "attachments": {},
   "cell_type": "markdown",
   "metadata": {},
   "source": [
    "REMI Events"
   ]
  },
  {
   "cell_type": "code",
   "execution_count": 14,
   "metadata": {},
   "outputs": [],
   "source": [
    "events = utils.item2event(groups)"
   ]
  },
  {
   "cell_type": "code",
   "execution_count": 15,
   "metadata": {},
   "outputs": [
    {
     "name": "stdout",
     "output_type": "stream",
     "text": [
      "Event(name=Bar, time=None, value=None, text=1)\n",
      "Event(name=Position, time=0, value=1/16, text=0)\n",
      "Event(name=Chord, time=0, value=A:min, text=A:min)\n",
      "Event(name=Position, time=0, value=1/16, text=0)\n",
      "Event(name=Tempo Class, time=0, value=mid, text=None)\n",
      "Event(name=Tempo Value, time=0, value=30, text=None)\n",
      "Event(name=Position, time=480, value=5/16, text=480)\n",
      "Event(name=Note Velocity, time=480, value=25, text=102/100)\n",
      "Event(name=Note On, time=480, value=57, text=57)\n",
      "Event(name=Note Duration, time=480, value=7, text=480/480)\n",
      "Event(name=Position, time=480, value=5/16, text=480)\n",
      "Event(name=Note Velocity, time=480, value=25, text=102/100)\n",
      "Event(name=Note On, time=480, value=69, text=69)\n",
      "Event(name=Note Duration, time=480, value=7, text=480/480)\n",
      "Event(name=Position, time=960, value=9/16, text=960)\n",
      "Event(name=Note Velocity, time=960, value=25, text=101/100)\n",
      "Event(name=Note On, time=960, value=60, text=60)\n",
      "Event(name=Note Duration, time=960, value=7, text=480/480)\n",
      "Event(name=Position, time=960, value=9/16, text=960)\n",
      "Event(name=Note Velocity, time=960, value=25, text=102/100)\n",
      "Event(name=Note On, time=960, value=72, text=72)\n",
      "Event(name=Note Duration, time=960, value=7, text=480/480)\n",
      "Event(name=Position, time=1440, value=13/16, text=1440)\n",
      "Event(name=Note Velocity, time=1440, value=25, text=102/100)\n",
      "Event(name=Note On, time=1440, value=62, text=62)\n",
      "Event(name=Note Duration, time=1440, value=7, text=480/480)\n",
      "Event(name=Position, time=1440, value=13/16, text=1440)\n",
      "Event(name=Note Velocity, time=1440, value=25, text=101/100)\n",
      "Event(name=Note On, time=1440, value=74, text=74)\n",
      "Event(name=Note Duration, time=1440, value=7, text=480/480)\n"
     ]
    }
   ],
   "source": [
    "print(*events[:30], sep='\\n')"
   ]
  }
 ],
 "metadata": {
  "kernelspec": {
   "display_name": "Python 3",
   "language": "python",
   "name": "python3"
  },
  "language_info": {
   "codemirror_mode": {
    "name": "ipython",
    "version": 3
   },
   "file_extension": ".py",
   "mimetype": "text/x-python",
   "name": "python",
   "nbconvert_exporter": "python",
   "pygments_lexer": "ipython3",
   "version": "3.8.8"
  }
 },
 "nbformat": 4,
 "nbformat_minor": 4
}
